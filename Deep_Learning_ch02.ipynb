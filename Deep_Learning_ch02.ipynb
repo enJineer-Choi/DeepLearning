{
  "nbformat": 4,
  "nbformat_minor": 0,
  "metadata": {
    "colab": {
      "provenance": []
    },
    "kernelspec": {
      "name": "python3",
      "display_name": "Python 3"
    },
    "language_info": {
      "name": "python"
    }
  },
  "cells": [
    {
      "cell_type": "markdown",
      "source": [
        "# CHAPTER 2 퍼셉트론"
      ],
      "metadata": {
        "id": "m1eOk5j6Yy5A"
      }
    },
    {
      "cell_type": "markdown",
      "source": [
        "## 2.1 퍼셉트론이란?"
      ],
      "metadata": {
        "id": "fBz2QGe9Yy2b"
      }
    },
    {
      "cell_type": "markdown",
      "source": [
        "- `퍼셉트론` : 다수의 신호를 입력으로 받아 하나의 신호를 출력\n",
        "- 입력 신호가 뉴런(노드)로 보내질 때는 고유한 가중치(𝐖)가 곱해짐\n",
        "- 뉴런에서 보내온 신호의 총합이 임계값(Θ)를 넘어 설때만 1을 출력 -> \"활성화\"한다고 표현"
      ],
      "metadata": {
        "id": "RPymkKnwYpuT"
      }
    },
    {
      "cell_type": "markdown",
      "source": [
        "## 2.2 단순한 논리회로"
      ],
      "metadata": {
        "id": "qapRDM_cZppM"
      }
    },
    {
      "cell_type": "markdown",
      "source": [
        "### 2.2.1 AND 게이트"
      ],
      "metadata": {
        "id": "0YTHa97AZwrI"
      }
    },
    {
      "cell_type": "markdown",
      "source": [
        "- 입력값이 모두 1일때만 1을 출력"
      ],
      "metadata": {
        "id": "3Zfqs-hLZ4Ye"
      }
    },
    {
      "cell_type": "markdown",
      "source": [
        "### 2.2.2 NAND 게이트와 OR 게이트"
      ],
      "metadata": {
        "id": "5Lab-yT_Z-HJ"
      }
    },
    {
      "cell_type": "markdown",
      "source": [
        "- NAND = Not AND -> AND게이트의 부호 반전 (모두 1일때만 0을 출력, 나머지는 모두 1을 출력)\n",
        "- OR -> 입력 신호중 하나 이상이 1이면 1을 출력"
      ],
      "metadata": {
        "id": "kjEys5bUaBxw"
      }
    },
    {
      "cell_type": "markdown",
      "source": [
        "`-` : 기계학습에서 **학습**이란 적절한 매개변수 값을 정하는 작업"
      ],
      "metadata": {
        "id": "HNFFi6RUaqJ-"
      }
    },
    {
      "cell_type": "markdown",
      "source": [
        "## 2.3 퍼셉트론 구현"
      ],
      "metadata": {
        "id": "65JUjvcFa4fF"
      }
    },
    {
      "cell_type": "markdown",
      "source": [
        "### 2.3.1 간단한 구현"
      ],
      "metadata": {
        "id": "a_7TmX3ya9Hj"
      }
    },
    {
      "cell_type": "code",
      "source": [
        "def AND(x1,x2):\n",
        "    w1,w2,theta=0.5,0.5,0.7\n",
        "    tmp=x1*w1+x2*w2\n",
        "    if tmp<=theta:\n",
        "        return 0\n",
        "    elif tmp >theta:\n",
        "        return 1"
      ],
      "metadata": {
        "id": "WtPtNWzRa_va"
      },
      "execution_count": 1,
      "outputs": []
    },
    {
      "cell_type": "code",
      "source": [
        "AND(0,0)\n",
        "AND(1,1)"
      ],
      "metadata": {
        "colab": {
          "base_uri": "https://localhost:8080/"
        },
        "id": "0M4kN3bZbNRW",
        "outputId": "7c0b48c1-db7a-4a80-9baa-4d5e1f8a52a4"
      },
      "execution_count": 2,
      "outputs": [
        {
          "output_type": "execute_result",
          "data": {
            "text/plain": [
              "1"
            ]
          },
          "metadata": {},
          "execution_count": 2
        }
      ]
    },
    {
      "cell_type": "markdown",
      "source": [
        "### 2.3.2 가중치와 bias도입"
      ],
      "metadata": {
        "id": "oEOVkG4VbUC1"
      }
    },
    {
      "cell_type": "markdown",
      "source": [
        "- Θ를 -b로 치환 ->b를 bias"
      ],
      "metadata": {
        "id": "g-VlKQq4baY1"
      }
    },
    {
      "cell_type": "markdown",
      "source": [
        "- $$y=\n",
        "\\begin{cases}\n",
        "0\\;(b+w_1x_1+w_2x_2 ≤ 0) \\\\\n",
        "1\\; (b+w_1x_1+w_2x_2>0)\n",
        "\\end{cases}$$"
      ],
      "metadata": {
        "id": "Bkn37sWTbmMV"
      }
    },
    {
      "cell_type": "code",
      "source": [
        "import numpy as np\n",
        "x=np.array([0,1])   #입력\n",
        "w=np.array([0.5,0.5])   #가중치\n",
        "b=-0.7  #편향\n",
        "w*x"
      ],
      "metadata": {
        "colab": {
          "base_uri": "https://localhost:8080/"
        },
        "id": "SW-nJdQjchz2",
        "outputId": "a88f71e0-bf74-4464-d420-b50975ae53bf"
      },
      "execution_count": 3,
      "outputs": [
        {
          "output_type": "execute_result",
          "data": {
            "text/plain": [
              "array([0. , 0.5])"
            ]
          },
          "metadata": {},
          "execution_count": 3
        }
      ]
    },
    {
      "cell_type": "code",
      "source": [
        "np.sum(w*x)"
      ],
      "metadata": {
        "colab": {
          "base_uri": "https://localhost:8080/"
        },
        "id": "1PsDKINSc0to",
        "outputId": "c6152c21-7636-4faa-c2ba-bb6b2de6fe49"
      },
      "execution_count": 4,
      "outputs": [
        {
          "output_type": "execute_result",
          "data": {
            "text/plain": [
              "0.5"
            ]
          },
          "metadata": {},
          "execution_count": 4
        }
      ]
    },
    {
      "cell_type": "code",
      "source": [
        "np.sum(w*x)+b"
      ],
      "metadata": {
        "colab": {
          "base_uri": "https://localhost:8080/"
        },
        "id": "hF84adKmc2KQ",
        "outputId": "923d65e5-d751-4fc7-e388-c1d2e26132b4"
      },
      "execution_count": 5,
      "outputs": [
        {
          "output_type": "execute_result",
          "data": {
            "text/plain": [
              "-0.19999999999999996"
            ]
          },
          "metadata": {},
          "execution_count": 5
        }
      ]
    },
    {
      "cell_type": "markdown",
      "source": [
        "### 2.3.3 가중치와 편향 구현"
      ],
      "metadata": {
        "id": "sATco05uc4Uy"
      }
    },
    {
      "cell_type": "markdown",
      "source": [
        "####AND 게이트 구현"
      ],
      "metadata": {
        "id": "nd8HYdcHl9FH"
      }
    },
    {
      "cell_type": "code",
      "source": [
        "def AND(x1,x2):\n",
        "    x=np.array([x1,x2])\n",
        "    w=np.array([0.5,0.5])\n",
        "    b=-0.7\n",
        "    tmp=np.sum(w*x)+b\n",
        "    if tmp<=0:\n",
        "        return 0\n",
        "    elif tmp>0:\n",
        "        return 1"
      ],
      "metadata": {
        "id": "pnLLaWcec_3F"
      },
      "execution_count": 6,
      "outputs": []
    },
    {
      "cell_type": "markdown",
      "source": [
        "- 가중치는 각 입력 신호가 결과에 주는 영향력(중요도)을 조절하는 매개변수\n",
        "- 편향은 뉴런이 얼마나 쉽게 활성화 (결과로 1을 출력)하느냐를 조정하는 매개변수"
      ],
      "metadata": {
        "id": "K21dEsQtdaTv"
      }
    },
    {
      "cell_type": "markdown",
      "source": [
        "####NAND 게이트 구현"
      ],
      "metadata": {
        "id": "9_U_FL2Kl7-2"
      }
    },
    {
      "cell_type": "code",
      "source": [
        "def NAND(x1,x2):\n",
        "    x=np.array([x1,x2])\n",
        "    w=np.array([-0.5,-0.5]) #AND와는 w와 b값만 다름\n",
        "    b=0.7\n",
        "    tmp=np.sum(w*x)+b\n",
        "    if tmp<=0:\n",
        "        return 0\n",
        "    else:\n",
        "        return 1"
      ],
      "metadata": {
        "id": "GvImLImDmB8A"
      },
      "execution_count": 7,
      "outputs": []
    },
    {
      "cell_type": "code",
      "source": [
        "def OR(x1,x2):\n",
        "    x=np.array([x1,x2])\n",
        "    w=np.array([0.5,0.5])\n",
        "    b=-0.2\n",
        "    tmp=np.sum(w*x)+b\n",
        "    if tmp<=0:\n",
        "        return 0\n",
        "    else:\n",
        "        return 1"
      ],
      "metadata": {
        "id": "6BW7hR3pma2X"
      },
      "execution_count": 8,
      "outputs": []
    },
    {
      "cell_type": "markdown",
      "source": [
        "- AND,NAND,OR 모두 같은 구조의 퍼셉트론. w와 b값에만 차이 존재"
      ],
      "metadata": {
        "id": "PHebYNzbmvsC"
      }
    },
    {
      "cell_type": "markdown",
      "source": [
        "## 2.4 퍼셉트론의 한계"
      ],
      "metadata": {
        "id": "QbeRRc6sm36P"
      }
    },
    {
      "cell_type": "markdown",
      "source": [
        "### 2.4.1 XOR 게이트"
      ],
      "metadata": {
        "id": "6NUroMXem7g6"
      }
    },
    {
      "cell_type": "markdown",
      "source": [
        "- XOR 게이트 : 배타적 논리합(exclusive or) 둘중 하나만 1일때 1을 출력 (= 1의 개수가 홀수개 일때 1을 출력)\n",
        "- XOR 게이트는 linear하게 분류할 수 없음. 즉, 퍼셉트론으로 구현이 불가능함"
      ],
      "metadata": {
        "id": "uhjqH2cjm-OE"
      }
    },
    {
      "cell_type": "markdown",
      "source": [
        "## 2.5 다층 퍼셉트론"
      ],
      "metadata": {
        "id": "8NKojnepnI14"
      }
    },
    {
      "cell_type": "markdown",
      "source": [
        "- multi-layer perceptron : 퍼셉트론을 \"층을 쌓아\" 만들 수 있음"
      ],
      "metadata": {
        "id": "jxOYkAxXneoL"
      }
    },
    {
      "cell_type": "markdown",
      "source": [
        "### 2.5.1 기존 게이트 조합"
      ],
      "metadata": {
        "id": "DfTOMimXnmLt"
      }
    },
    {
      "cell_type": "markdown",
      "source": [
        "- AND,NAND,OR 게이트를 조합하여 XOR 게이트를 만들어 낼 수 있음\n",
        "- 입력값들을 NAND,OR게이트를 통과시킨후, 그 결과값을 AND게이트를 통과시키면 XOR게이트를 만들어 낼 수 있음"
      ],
      "metadata": {
        "id": "DHU_vhxWnqHa"
      }
    },
    {
      "cell_type": "markdown",
      "source": [
        "### 2.5.2 XOR 게이트 구현"
      ],
      "metadata": {
        "id": "yByUmC7gnwFV"
      }
    },
    {
      "cell_type": "code",
      "source": [
        "def XOR(x1,x2):\n",
        "    s1=NAND(x1,x2)\n",
        "    s2=OR(x1,x2)\n",
        "    y=AND(s1,s2)\n",
        "    return y"
      ],
      "metadata": {
        "id": "YHVTlR0Lo4je"
      },
      "execution_count": 9,
      "outputs": []
    },
    {
      "cell_type": "code",
      "source": [
        "XOR(0,0)"
      ],
      "metadata": {
        "colab": {
          "base_uri": "https://localhost:8080/"
        },
        "id": "AlDHMBjhpDNC",
        "outputId": "7190634e-f9b9-4d1f-8ad4-e7c4ca63caef"
      },
      "execution_count": 10,
      "outputs": [
        {
          "output_type": "execute_result",
          "data": {
            "text/plain": [
              "0"
            ]
          },
          "metadata": {},
          "execution_count": 10
        }
      ]
    },
    {
      "cell_type": "code",
      "source": [
        "XOR(1,0)"
      ],
      "metadata": {
        "colab": {
          "base_uri": "https://localhost:8080/"
        },
        "id": "3SKwFZLApFaC",
        "outputId": "146cf1b3-1d26-4f4a-da84-91fe7ec0a5d0"
      },
      "execution_count": 11,
      "outputs": [
        {
          "output_type": "execute_result",
          "data": {
            "text/plain": [
              "1"
            ]
          },
          "metadata": {},
          "execution_count": 11
        }
      ]
    },
    {
      "cell_type": "code",
      "source": [
        "XOR(1,1)"
      ],
      "metadata": {
        "colab": {
          "base_uri": "https://localhost:8080/"
        },
        "id": "R51uWrI-pHqD",
        "outputId": "a2198feb-a1f8-456c-dcbf-a12dc660b22e"
      },
      "execution_count": 12,
      "outputs": [
        {
          "output_type": "execute_result",
          "data": {
            "text/plain": [
              "0"
            ]
          },
          "metadata": {},
          "execution_count": 12
        }
      ]
    },
    {
      "cell_type": "markdown",
      "source": [
        "### 정리\n",
        "- 퍼셉트론은 입출력을 갖춘 알고리즘. 입력을 주면 정해진 규칙에 따른 값을 출력함\n",
        "- 퍼셉트론에서는 `가중치`와 `편향`을 매개변수로 설정\n",
        "- 퍼셉트론으로 AND,OR게이트 등의 논리회로를 표현 가능\n",
        "- XOR 게이트는 다층 퍼셉트론(2층)으로 표현가능\n",
        "- 단층 퍼셉트론은 **직선형 영역**만 표현할 수 있고, 다층 퍼셉트론은 **비선형 영역**도 표현할 수 있음"
      ],
      "metadata": {
        "id": "hkgg_QA_pIwp"
      }
    },
    {
      "cell_type": "code",
      "source": [],
      "metadata": {
        "id": "qVDSF_pstcPq"
      },
      "execution_count": null,
      "outputs": []
    }
  ]
}